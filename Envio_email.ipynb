{
  "nbformat": 4,
  "nbformat_minor": 0,
  "metadata": {
    "colab": {
      "provenance": [],
      "authorship_tag": "ABX9TyMquEkcPhsmRbIY1AB9Au8M",
      "include_colab_link": true
    },
    "kernelspec": {
      "name": "python3",
      "display_name": "Python 3"
    },
    "language_info": {
      "name": "python"
    }
  },
  "cells": [
    {
      "cell_type": "markdown",
      "metadata": {
        "id": "view-in-github",
        "colab_type": "text"
      },
      "source": [
        "<a href=\"https://colab.research.google.com/github/ProjetoDados/Esquadr-o-Vendas/blob/main/Envio_email.ipynb\" target=\"_parent\"><img src=\"https://colab.research.google.com/assets/colab-badge.svg\" alt=\"Open In Colab\"/></a>"
      ]
    },
    {
      "cell_type": "code",
      "source": [],
      "metadata": {
        "id": "NLGEMhbxDBIr"
      },
      "execution_count": null,
      "outputs": []
    },
    {
      "cell_type": "code",
      "source": [
        "# 📬 Script de envio de e-mail + PDF mais recente do Drive\n",
        "\n",
        "import smtplib\n",
        "import os\n",
        "from datetime import datetime\n",
        "from email.mime.multipart import MIMEMultipart\n",
        "from email.mime.text import MIMEText\n",
        "from email.mime.application import MIMEApplication\n",
        "\n",
        "# 🔒 Dados do Gmail\n",
        "email_remetente = \"projetodadosnb@gmail.com\"\n",
        "senha_app = \"hjku qaht kyog ulue\"\n",
        "destinatarios = [\"rafael@newbasca.com.br\", \"victor@newbasca.com.br\"]\n",
        "\n",
        "# ✅ Montar o Google Drive\n",
        "from google.colab import drive\n",
        "drive.mount('/content/drive')\n",
        "\n",
        "# 📁 Caminhos no Drive\n",
        "base_path = \"/content/drive/My Drive/RelatoriosEsquadrao\"\n",
        "pdfs_path = os.path.join(base_path, \"PDFs\")\n",
        "os.makedirs(pdfs_path, exist_ok=True)\n",
        "\n",
        "# 📄 Conteúdo HTML (exemplo pronto)\n",
        "html_content = \"\"\"\n",
        "<!DOCTYPE html>\n",
        "<html lang=\"pt\">\n",
        "  <head>\n",
        "    <meta charset=\"UTF-8\" />\n",
        "    <title>Relatório Semanal - Esquadrão de Vendas</title>\n",
        "  </head>\n",
        "  <body style=\"margin:0; padding:0; font-family:Verdana, Geneva, Tahoma, sans-serif; background-color:#f2f2f2;\">\n",
        "    <table align=\"center\" width=\"100%\" cellpadding=\"0\" cellspacing=\"0\" style=\"max-width:600px; background-color:#ffffff; margin:auto; border-radius:10px; overflow:hidden;\">\n",
        "      <tr>\n",
        "        <td>\n",
        "          <img src=\"https://i.ibb.co/m508tWNg/imagem-fundo-CDC.png\" alt=\"Imagem do Relatório\" width=\"100%\" style=\"display:block; border:0;\"/>\n",
        "        </td>\n",
        "      </tr>\n",
        "      <tr>\n",
        "        <td style=\"padding: 30px;\">\n",
        "          <h1 style=\"font-size: 24px; color: #001D00; margin-bottom: 20px;\">Relatório Semanal - Esquadrão de Vendas</h1>\n",
        "          <p style=\"font-size: 16px; color: #333333; margin-bottom: 20px;\">Olá! O relatório da semana está disponível.</p>\n",
        "          <p style=\"font-size: 16px; color: #333333; margin-bottom: 30px;\">Você pode acessá-lo clicando no botão abaixo:</p>\n",
        "          <a href=\"https://drive.google.com/drive/folders/1TcjcbfxsBxdctl_2Ev1es3dYBxkLWehn?usp=sharing\" target=\"_blank\" style=\"display: inline-block; padding: 14px 28px; background-color: #00F106; color: #000000; text-decoration: none; font-weight: bold; border-radius: 5px;\">Acessar no Power BI</a>\n",
        "        </td>\n",
        "      </tr>\n",
        "      <tr>\n",
        "        <td style=\"padding: 30px; background-color: #e6ffe6; border-top: 1px solid #cccccc;\">\n",
        "          <h2 style=\"font-size: 18px; color: #001D00; margin-bottom: 15px;\">Instruções para acesso</h2>\n",
        "          <p style=\"font-size: 14px; color: #333333; margin-bottom: 10px;\">Se estiver com problemas para acessar o relatório, verifique:</p>\n",
        "          <ul style=\"font-size: 14px; color: #333333; padding-left: 20px; margin-bottom: 15px;\">\n",
        "            <li>Certifique-se de estar conectado à sua conta Google com permissão.</li>\n",
        "            <li>Solicite acesso ao administrador, se necessário.</li>\n",
        "            <li>Use navegador atualizado (Chrome, Firefox, Edge).</li>\n",
        "          </ul>\n",
        "          <p style=\"font-size: 14px; color: #333333;\">Dúvidas? Fale com o administrador do sistema.</p>\n",
        "        </td>\n",
        "      </tr>\n",
        "    </table>\n",
        "  </body>\n",
        "</html>\n",
        "\"\"\"\n",
        "\n",
        "# 💾 Salvar o HTML no Drive\n",
        "with open(os.path.join(base_path, 'email_template.html'), 'w', encoding='utf-8') as f:\n",
        "    f.write(html_content)\n",
        "\n",
        "# 🔍 Buscar o PDF mais recente na pasta \"PDFs\"\n",
        "arquivos_pdf = [f for f in os.listdir(pdfs_path) if f.lower().endswith('.pdf')]\n",
        "if not arquivos_pdf:\n",
        "    raise FileNotFoundError(\"⚠️ Nenhum arquivo PDF encontrado na pasta /PDFs do Drive.\")\n",
        "\n",
        "mais_recente = max(arquivos_pdf, key=lambda x: os.path.getmtime(os.path.join(pdfs_path, x)))\n",
        "caminho_pdf = os.path.join(pdfs_path, mais_recente)\n",
        "\n",
        "# 📎 Carregar o PDF\n",
        "with open(caminho_pdf, 'rb') as f:\n",
        "    pdf_data = f.read()\n",
        "\n",
        "# ✉️ Criar o e-mail\n",
        "msg = MIMEMultipart()\n",
        "msg['From'] = email_remetente\n",
        "msg['To'] = \", \".join(destinatarios)\n",
        "msg['Subject'] = \"Relatório Semanal - Esquadrão de Vendas\"\n",
        "msg.attach(MIMEText(html_content, \"html\"))\n",
        "\n",
        "# Anexo PDF\n",
        "anexo = MIMEApplication(pdf_data, _subtype=\"pdf\")\n",
        "anexo.add_header('Content-Disposition', 'attachment', filename=mais_recente)\n",
        "msg.attach(anexo)\n",
        "\n",
        "# 🚀 Enviar e-mail\n",
        "try:\n",
        "    servidor = smtplib.SMTP(\"smtp.gmail.com\", 587)\n",
        "    servidor.starttls()\n",
        "    servidor.login(email_remetente, senha_app)\n",
        "    servidor.sendmail(email_remetente, destinatarios, msg.as_string())\n",
        "    servidor.quit()\n",
        "    print(f\"✅ E-mail enviado com sucesso com o arquivo: {mais_recente}\")\n",
        "\n",
        "    # 🔁 Salvar cópia do PDF com data\n",
        "    data_atual = datetime.today().strftime('%Y-%m-%d')\n",
        "    novo_nome = f\"relatorio-{data_atual}.pdf\"\n",
        "    with open(os.path.join(base_path, novo_nome), 'wb') as f:\n",
        "        f.write(pdf_data)\n",
        "\n",
        "    # 📝 Registrar no log\n",
        "    log_path = os.path.join(base_path, \"log_envios.txt\")\n",
        "    with open(log_path, 'a', encoding='utf-8') as log:\n",
        "        hora = datetime.now().strftime('%Y-%m-%d %H:%M:%S')\n",
        "        log.write(f\"[{hora}] Enviado: {mais_recente} → como {novo_nome}\\n\")\n",
        "\n",
        "except Exception as e:\n",
        "    print(\"❌ Erro ao enviar e-mail:\", e)\n"
      ],
      "metadata": {
        "colab": {
          "base_uri": "https://localhost:8080/"
        },
        "id": "RdsOnC4JS5Kf",
        "outputId": "b63f6867-8feb-407b-d1fa-075d0dc650b2"
      },
      "execution_count": 15,
      "outputs": [
        {
          "output_type": "stream",
          "name": "stdout",
          "text": [
            "Drive already mounted at /content/drive; to attempt to forcibly remount, call drive.mount(\"/content/drive\", force_remount=True).\n",
            "✅ E-mail enviado com sucesso com o arquivo: relatorio semana 2.pdf\n"
          ]
        }
      ]
    }
  ]
}